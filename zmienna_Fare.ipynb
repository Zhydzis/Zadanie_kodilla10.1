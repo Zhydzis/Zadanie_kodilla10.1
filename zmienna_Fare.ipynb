import pandas as pd
import matplotlib.pyplot as plt
import seaborn as sns

df = pd.read_csv('/Users/Andrei/Desktop/titanic.csv')

# Podstawowe statystyki opisowe dla zmiennej Fare
fare = df['Fare'].dropna()
print("Średnia:", fare.mean())
print("Mediana:", fare.median())
print("Wariancja:", fare.var())
print("Odchylenie standardowe:", fare.std())
print(fare.describe())

plt.figure(figsize=(10, 5))
sns.histplot(fare, kde=True, bins=50, color='black')
plt.title("Rozkład opłat za bilet (Fare)")
plt.xlabel("Fare")
plt.ylabel("Liczba pasażerów")
plt.grid(True)
plt.tight_layout()
plt.show()